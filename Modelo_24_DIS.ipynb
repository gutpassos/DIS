{
 "cells": [
  {
   "cell_type": "markdown",
   "metadata": {
    "colab_type": "text",
    "id": "_DPfn8sIZeWy"
   },
   "source": [
    "<strong><b><font size=\"5\">Análise Estatística e Modelagem Preditiva de Séries Temporais - Em Python</font></b></strong>"
   ]
  },
  {
   "cell_type": "markdown",
   "metadata": {
    "colab_type": "text",
    "id": "bLmuhM18ZeWz"
   },
   "source": [
    "<strong><b><font size=\"4\">O Mito do Aumento do Número de Camadas e Neurônios em Deep Learning</font></b></strong>"
   ]
  },
  {
   "cell_type": "markdown",
   "metadata": {
    "colab_type": "text",
    "id": "Tgn15tbqZeW0"
   },
   "source": [
    "Todas as aulas deste curso podem ser encontradas na timeline da Comunidade em nosso portal: www.datascienceacademy.com.br/social"
   ]
  },
  {
   "cell_type": "markdown",
   "metadata": {
    "colab_type": "text",
    "id": "y7ZhfkvvfuPR"
   },
   "source": [
    "Na aula anterior criamos nosso primeiro modelo de Deep Learning para a Previsão da Média Mensal de Vendas. Agora vamos trabalhar na otimização do modelo e começaremos com um modelo Stacked LSTM. \n",
    "\n",
    "**Deep Learning - O Mito do Aumento do Número de Camadas e Neurônios em Deep Learning**\n",
    "\n",
    "Deep Learning é uma tentativa de reproduzir nas máquinas a capacidade de inteligência humana. Logo, se aumentarmos o número de camadas do modelo e aumentarmos o número de neurônios matemáticos, nosso modelo de Deep Learning fica mais \"inteligente\", ou seja, mais preciso. Certo? Não necessariamente!\n",
    "\n",
    "Sei que você não quer ouvir isso, mas a verdade precisa ser dita: Tudo depende do seu problema e do seu conjunto de dados!\n",
    "\n",
    "Para alguns problemas, a simples adição de camadas e/ou neurônios promove um aumento significativo na precisão do modelo. Para outros casos (como o nosso), pode ser um desastre. Por isso, não use o aumento de camadas/neurônios como a sua única estratégia para tentar melhorar a performance de um modelo de Deep Learning.\n",
    "\n",
    "Vejamos o que acontece quando criamos uma rede realmente profunda!\n",
    "\n",
    "Esta aula considera algu conhecimento em Deep Learning e esse conhecimento pode ser obtido no material gratuito fornecido pela DSA, o <a href=\"http://www.deeplearningbook.com.br/\">Deep Learning Book</a>. Lá você encontra alguns capítulos inteiros dedicados às LSTMs. Recomendamos a leitura."
   ]
  },
  {
   "cell_type": "code",
   "execution_count": 1,
   "metadata": {
    "colab": {
     "base_uri": "https://localhost:8080/",
     "height": 34
    },
    "colab_type": "code",
    "id": "1nWPYW--ZeXA",
    "outputId": "3cd8e802-6802-4e33-b52f-7b1df533813a"
   },
   "outputs": [],
   "source": [
    "import sys\n",
    "import warnings\n",
    "import matplotlib.cbook\n",
    "if not sys.warnoptions:\n",
    "    warnings.simplefilter(\"ignore\")\n",
    "warnings.simplefilter(action='ignore', category=FutureWarning)\n",
    "warnings.filterwarnings(\"ignore\", category=FutureWarning)\n",
    "warnings.filterwarnings(\"ignore\", category=matplotlib.cbook.mplDeprecation)\n",
    "\n",
    "# Imports para manipulação de dados\n",
    "import numpy as np\n",
    "import pandas as pd\n",
    "import itertools\n",
    "from pandas import Series\n",
    "from pandas.tseries.offsets import DateOffset\n",
    "\n",
    "# Imports para visualização de dados\n",
    "import matplotlib.pyplot as plt\n",
    "import matplotlib as m\n",
    "import seaborn as sns\n",
    "\n",
    "# Imports para modelagem preditiva\n",
    "import sklearn\n",
    "from sklearn.preprocessing import MinMaxScaler\n",
    "import statsmodels\n",
    "import statsmodels.api as sm\n",
    "import statsmodels.tsa.api as smt\n",
    "import statsmodels.stats as sms\n",
    "from statsmodels.tsa.seasonal import seasonal_decompose\n",
    "from statsmodels.tsa.stattools import adfuller\n",
    "\n",
    "# Imports para formatação dos gráficos\n",
    "plt.style.use('fivethirtyeight')\n",
    "m.rcParams['axes.labelsize'] = 14\n",
    "m.rcParams['xtick.labelsize'] = 12\n",
    "m.rcParams['ytick.labelsize'] = 12\n",
    "m.rcParams['text.color'] = 'k'\n",
    "from pylab import rcParams\n",
    "rcParams['figure.figsize'] = 20, 10\n",
    "#matplotlib.style.use('ggplot')\n",
    "#%matplotlib inline\n",
    "\n",
    "from time import time"
   ]
  },
  {
   "cell_type": "code",
   "execution_count": 2,
   "metadata": {},
   "outputs": [
    {
     "name": "stderr",
     "output_type": "stream",
     "text": [
      "Using TensorFlow backend.\n"
     ]
    }
   ],
   "source": [
    "# Imports para modelagem preditiva - Tensorflow 1.\n",
    "import keras\n",
    "from keras.preprocessing.sequence import TimeseriesGenerator\n",
    "from keras.models import Sequential\n",
    "from keras.layers.core import Dense, Activation\n",
    "from keras.layers import LSTM\n",
    "from keras.layers import Dropout"
   ]
  },
  {
   "cell_type": "code",
   "execution_count": null,
   "metadata": {},
   "outputs": [],
   "source": [
    "# Imports para modelagem preditiva - Tensorflow 2.0\n",
    "#import tensorflow as tf\n",
    "#from tensorflow import keras\n",
    "#from tensorflow.keras import Sequential, optimizers\n",
    "#from tensorflow.keras.layers import Dense, Activation, LSTM, Dropout\n",
    "#from tensorflow.keras.preprocessing.sequence import TimeseriesGenerator"
   ]
  },
  {
   "cell_type": "code",
   "execution_count": 3,
   "metadata": {
    "colab": {
     "base_uri": "https://localhost:8080/",
     "height": 170
    },
    "colab_type": "code",
    "id": "8fxYgPOhZeXC",
    "outputId": "d524ce1e-b725-4467-dea8-7731246f6b7d"
   },
   "outputs": [
    {
     "name": "stdout",
     "output_type": "stream",
     "text": [
      "pandas          1.1.5\n",
      "statsmodels.api 0.12.1\n",
      "numpy           1.19.5\n",
      "keras           2.3.1\n",
      "matplotlib      3.3.3\n",
      "seaborn         0.11.1\n",
      "sklearn         0.24.0\n",
      "statsmodels     0.12.1\n",
      "Data Science Academy\n"
     ]
    }
   ],
   "source": [
    "# Versões dos pacotes usados neste jupyter notebook\n",
    "%reload_ext watermark\n",
    "%watermark -a \"Data Science Academy\" --iversions"
   ]
  },
  {
   "cell_type": "markdown",
   "metadata": {
    "colab_type": "text",
    "id": "FXdoqLXrfuPe"
   },
   "source": [
    "## Definição do Problema de Negócio\n",
    "\n",
    "Previsão do distanciamento social em Minas Gerais."
   ]
  },
  {
   "cell_type": "markdown",
   "metadata": {
    "colab_type": "text",
    "id": "QleHlQjlfuPe"
   },
   "source": [
    "## Conjunto de Dados"
   ]
  },
  {
   "cell_type": "markdown",
   "metadata": {
    "colab_type": "text",
    "id": "N0s1t5clfuPf"
   },
   "source": [
    "Usaremos conjuntos de dados que mostram o distanciamento social em Minas Gerais. Os dados tem registros de 15/02/2020 a 29/01/2021.\n",
    "\n",
    "Será fornecido 1 dataset com 2 colunas, data e distanciamento social."
   ]
  },
  {
   "cell_type": "code",
   "execution_count": 4,
   "metadata": {
    "colab": {},
    "colab_type": "code",
    "id": "0ZiBthM6ZeXI"
   },
   "outputs": [],
   "source": [
    "# Carrega os dados\n",
    "dataframe = pd.read_csv(\"./data/AIH.csv\")\n",
    "dataframe['Data'] = pd.to_datetime(dataframe.Data, format = '%d/%m/%Y')\n",
    "dataframe = dataframe.set_index('Data')"
   ]
  },
  {
   "cell_type": "code",
   "execution_count": 5,
   "metadata": {},
   "outputs": [
    {
     "data": {
      "text/html": [
       "<div>\n",
       "<style scoped>\n",
       "    .dataframe tbody tr th:only-of-type {\n",
       "        vertical-align: middle;\n",
       "    }\n",
       "\n",
       "    .dataframe tbody tr th {\n",
       "        vertical-align: top;\n",
       "    }\n",
       "\n",
       "    .dataframe thead th {\n",
       "        text-align: right;\n",
       "    }\n",
       "</style>\n",
       "<table border=\"1\" class=\"dataframe\">\n",
       "  <thead>\n",
       "    <tr style=\"text-align: right;\">\n",
       "      <th></th>\n",
       "      <th>QT_INTER</th>\n",
       "    </tr>\n",
       "    <tr>\n",
       "      <th>Data</th>\n",
       "      <th></th>\n",
       "    </tr>\n",
       "  </thead>\n",
       "  <tbody>\n",
       "    <tr>\n",
       "      <th>2020-02-15</th>\n",
       "      <td>31.6</td>\n",
       "    </tr>\n",
       "    <tr>\n",
       "      <th>2020-02-16</th>\n",
       "      <td>38.9</td>\n",
       "    </tr>\n",
       "    <tr>\n",
       "      <th>2020-02-17</th>\n",
       "      <td>24.0</td>\n",
       "    </tr>\n",
       "    <tr>\n",
       "      <th>2020-02-18</th>\n",
       "      <td>26.5</td>\n",
       "    </tr>\n",
       "    <tr>\n",
       "      <th>2020-02-19</th>\n",
       "      <td>27.8</td>\n",
       "    </tr>\n",
       "  </tbody>\n",
       "</table>\n",
       "</div>"
      ],
      "text/plain": [
       "            QT_INTER\n",
       "Data                \n",
       "2020-02-15      31.6\n",
       "2020-02-16      38.9\n",
       "2020-02-17      24.0\n",
       "2020-02-18      26.5\n",
       "2020-02-19      27.8"
      ]
     },
     "execution_count": 5,
     "metadata": {},
     "output_type": "execute_result"
    }
   ],
   "source": [
    "# Dados\n",
    "dataframe.head()"
   ]
  },
  {
   "cell_type": "code",
   "execution_count": 6,
   "metadata": {},
   "outputs": [],
   "source": [
    "# Refinamos os dados para o gráfico da série original\n",
    "# A variável File_System é nossa variável target \n",
    "target = dataframe['QT_INTER']"
   ]
  },
  {
   "cell_type": "code",
   "execution_count": 7,
   "metadata": {},
   "outputs": [
    {
     "data": {
      "image/png": "[encoded data removed]",
      "text/plain": [
       "<Figure size 1440x720 with 1 Axes>"
      ]
     },
     "metadata": {},
     "output_type": "display_data"
    }
   ],
   "source": [
    "# Plot\n",
    "target.plot(title = 'Total diário de Distanciamento Social em Minas Gerais', fontsize = 14, label = 'Distanciamento Social') \n",
    "plt.xlabel(\"Data\") \n",
    "plt.ylabel(\"Distanciamento Social\") \n",
    "plt.legend(loc = 'best') \n",
    "plt.show()"
   ]
  },
  {
   "cell_type": "code",
   "execution_count": 8,
   "metadata": {},
   "outputs": [
    {
     "name": "stdout",
     "output_type": "stream",
     "text": [
      "262 88\n"
     ]
    }
   ],
   "source": [
    "# Divisão em treino e teste\n",
    "treino_size = int(len(target) * 0.75)\n",
    "treino, teste = target[0:treino_size], target[treino_size:]\n",
    "print(len(treino), len(teste))"
   ]
  },
  {
   "cell_type": "code",
   "execution_count": 9,
   "metadata": {},
   "outputs": [],
   "source": [
    "# Ajusta o shape, pois agora não temos um objeto pd.Series, \n",
    "# mas sim um array NumPy, que é necessário para treinar o modelo LSTM\n",
    "trainset = treino.values.reshape(-1,1)\n",
    "testset = teste.values.reshape(-1,1)"
   ]
  },
  {
   "cell_type": "markdown",
   "metadata": {
    "colab_type": "text",
    "id": "Klk9tXCPfuQP"
   },
   "source": [
    "### Função Para o Cálculo da Acurácia"
   ]
  },
  {
   "cell_type": "code",
   "execution_count": 10,
   "metadata": {
    "colab": {},
    "colab_type": "code",
    "id": "tiQjWxW2fuQP"
   },
   "outputs": [],
   "source": [
    "# Função\n",
    "def performance(y_true, y_pred): \n",
    "    mse = ((y_pred - y_true) ** 2).mean()\n",
    "    mape = np.mean(np.abs((y_true - y_pred) / y_true)) * 100\n",
    "    return( print('MSE das previsões é {}'.format(round(mse, 4))+\n",
    "                  '\\nRMSE das previsões é {}'.format(round(np.sqrt(mse), 4))+\n",
    "                  '\\nMAPE das previsões é {}'.format(round(mape, 4))))"
   ]
  },
  {
   "cell_type": "markdown",
   "metadata": {
    "colab_type": "text",
    "id": "cX_llR0-fuQR"
   },
   "source": [
    "## O Mito do Aumento do Número de Camadas e Neurônios em Deep Learning"
   ]
  },
  {
   "cell_type": "markdown",
   "metadata": {
    "colab_type": "text",
    "id": "ImUC0m2lfuQS"
   },
   "source": [
    "Nesta aula tentaremos aumentar a precisão do nosso modelo aumentando de forma significativa o número de camadas e neurônios.\n",
    "\n",
    "Execute o modelo e tire suas conclusões.\n",
    "\n",
    "Esse modelo é estudado em detalhes no curso <a href=\"https://www.datascienceacademy.com.br/course?courseid=deep-learning-ii\">Deep Learning II</a>."
   ]
  },
  {
   "cell_type": "markdown",
   "metadata": {
    "colab_type": "text",
    "id": "oDY6yzMpfuQS"
   },
   "source": [
    "### Preparando os Dados Para Treinamento"
   ]
  },
  {
   "cell_type": "markdown",
   "metadata": {
    "colab_type": "text",
    "id": "umlAKY4mfuQS"
   },
   "source": [
    "Como regra geral, sempre que você usa uma rede neural, você deve normalizar ou dimensionar seus dados."
   ]
  },
  {
   "cell_type": "code",
   "execution_count": 11,
   "metadata": {
    "colab": {},
    "colab_type": "code",
    "id": "QZeBIOcIfuQS"
   },
   "outputs": [],
   "source": [
    "# Transforma a série temporal em um problema de aprendizagem supervisionada\n",
    "def timeseries_to_supervised(data, lag = 1):\n",
    "    df = pd.DataFrame(data)\n",
    "    columns = [df.shift(i) for i in range(1, lag + 1)]\n",
    "    columns.append(df)\n",
    "    df = pd.concat(columns, axis = 1)\n",
    "    df.fillna(0, inplace = True)\n",
    "    return df"
   ]
  },
  {
   "cell_type": "code",
   "execution_count": 12,
   "metadata": {
    "colab": {},
    "colab_type": "code",
    "id": "E7DmLS54fuQU"
   },
   "outputs": [],
   "source": [
    "# Cria uma série diferenciada para tornar a série temporal estacionária\n",
    "def difference(dataset, interval = 1):\n",
    "    diff = list()\n",
    "    for i in range(interval, len(dataset)):\n",
    "        value = dataset[i] - dataset[i - interval]\n",
    "        diff.append(value)\n",
    "    return Series(diff)"
   ]
  },
  {
   "cell_type": "code",
   "execution_count": 13,
   "metadata": {
    "colab": {},
    "colab_type": "code",
    "id": "BdXTu02ZfuQW"
   },
   "outputs": [],
   "source": [
    "# Inverte valor diferenciado\n",
    "def inverse_difference(history, yhat, interval = 1):\n",
    "    return yhat + history[-interval]"
   ]
  },
  {
   "cell_type": "code",
   "execution_count": 14,
   "metadata": {
    "colab": {},
    "colab_type": "code",
    "id": "I8ILUF8_fuQY"
   },
   "outputs": [],
   "source": [
    "# Transforma a série temporal em estacionária\n",
    "raw_values = target.values\n",
    "diff_values = difference(raw_values, 1)"
   ]
  },
  {
   "cell_type": "code",
   "execution_count": 15,
   "metadata": {
    "colab": {},
    "colab_type": "code",
    "id": "96dHkPuLfuQa"
   },
   "outputs": [],
   "source": [
    "# Transforma a série temporal em aprendizado supervisionado\n",
    "supervised = timeseries_to_supervised(diff_values, 1)\n",
    "supervised_values = supervised.values"
   ]
  },
  {
   "cell_type": "code",
   "execution_count": 16,
   "metadata": {
    "colab": {},
    "colab_type": "code",
    "id": "AQn5mZr5fuQb"
   },
   "outputs": [],
   "source": [
    "# Criação do dataset de treino e teste\n",
    "trainset, testset = supervised_values[0:-88], supervised_values[-88:]"
   ]
  },
  {
   "cell_type": "code",
   "execution_count": 17,
   "metadata": {
    "colab": {},
    "colab_type": "code",
    "id": "zYtuA8yJfuQd"
   },
   "outputs": [],
   "source": [
    "# Normalizamos os dados aplicando scala no intervalo [-1, 1]\n",
    "def scale(train, test):\n",
    "    scaler = MinMaxScaler(feature_range = (-1, 1))\n",
    "    scaler = scaler.fit(train)\n",
    "    \n",
    "    # Transforma dados de treino\n",
    "    train = train.reshape(train.shape[0], train.shape[1])\n",
    "    train_scaled = scaler.transform(train)\n",
    "    \n",
    "    # Transforma dados de teste\n",
    "    test = test.reshape(test.shape[0], test.shape[1])\n",
    "    test_scaled = scaler.transform(test)\n",
    "    \n",
    "    return scaler, train_scaled, test_scaled"
   ]
  },
  {
   "cell_type": "code",
   "execution_count": 18,
   "metadata": {
    "colab": {},
    "colab_type": "code",
    "id": "eJa4B9R3fuQg"
   },
   "outputs": [],
   "source": [
    "#  Inverte a escala nas previsões para a escala original\n",
    "def invert_scale(scaler, X, value):\n",
    "    new_row = [x for x in X] + [value]\n",
    "    array = np.array(new_row)\n",
    "    array = array.reshape(1, len(array))\n",
    "    inverted = scaler.inverse_transform(array)\n",
    "    return inverted[0, -1]"
   ]
  },
  {
   "cell_type": "code",
   "execution_count": 19,
   "metadata": {
    "colab": {},
    "colab_type": "code",
    "id": "caljc-d8fuQi"
   },
   "outputs": [],
   "source": [
    "# Transforma a escala dos dados\n",
    "scaler, train_scaled, test_scaled = scale(trainset, testset)"
   ]
  },
  {
   "cell_type": "code",
   "execution_count": 20,
   "metadata": {
    "colab": {},
    "colab_type": "code",
    "id": "5ar2XgZ5fuQk"
   },
   "outputs": [],
   "source": [
    "# Função para o modelo LSTM\n",
    "def train_lstm(train, nb_epoch):\n",
    "    \n",
    "    # Ajusta o shape dos dados\n",
    "    X, y = train[:, 0:-1], train[:, -1]\n",
    "    X = X.reshape(X.shape[0], 1, X.shape[1])\n",
    "    \n",
    "    # Modelo\n",
    "    modelo_lstm = Sequential()\n",
    "    modelo_lstm.add(LSTM(200, activation = 'relu', return_sequences = True, input_shape = (1, 1)))\n",
    "    modelo_lstm.add(LSTM(100, activation = 'relu', return_sequences = True))\n",
    "    modelo_lstm.add(LSTM(50, activation = 'relu', return_sequences = True))\n",
    "    modelo_lstm.add(LSTM(25, activation = 'relu'))\n",
    "    modelo_lstm.add(Dense(20, activation = 'relu'))\n",
    "    modelo_lstm.add(Dense(10, activation = 'relu'))\n",
    "    modelo_lstm.add(Dense(1))\n",
    "    \n",
    "    modelo_lstm.compile(optimizer = 'adam', loss = 'mean_squared_error')\n",
    "\n",
    "    modelo_lstm.fit(X, y, epochs = nb_epoch, verbose = 1)\n",
    "    \n",
    "    return modelo_lstm"
   ]
  },
  {
   "cell_type": "markdown",
   "metadata": {
    "colab_type": "text",
    "id": "uPSb3tvCfuQl"
   },
   "source": [
    "> Vamos treinar por 5 mil épocas."
   ]
  },
  {
   "cell_type": "code",
   "execution_count": null,
   "metadata": {
    "colab": {
     "base_uri": "https://localhost:8080/",
     "height": 1000
    },
    "colab_type": "code",
    "id": "XoDxEAtPfuQm",
    "outputId": "b46eba08-f35f-4135-fe9b-c98ed6973813"
   },
   "outputs": [
    {
     "name": "stdout",
     "output_type": "stream",
     "text": [
      "Epoch 1/5000\n",
      "261/261 [==============================] - 2s 7ms/step - loss: 0.1676\n",
      "Epoch 2/5000\n",
      "261/261 [==============================] - 0s 528us/step - loss: 0.1644\n",
      "Epoch 3/5000\n",
      "261/261 [==============================] - 0s 536us/step - loss: 0.1621\n",
      "Epoch 4/5000\n",
      "261/261 [==============================] - 0s 536us/step - loss: 0.1614\n",
      "Epoch 5/5000\n",
      "261/261 [==============================] - 0s 532us/step - loss: 0.1611\n",
      "Epoch 6/5000\n",
      "261/261 [==============================] - 0s 513us/step - loss: 0.1607\n",
      "Epoch 7/5000\n",
      "261/261 [==============================] - 0s 513us/step - loss: 0.1607\n",
      "Epoch 8/5000\n",
      "261/261 [==============================] - 0s 509us/step - loss: 0.1603\n",
      "Epoch 9/5000\n",
      "261/261 [==============================] - 0s 509us/step - loss: 0.1599\n",
      "Epoch 10/5000\n",
      "261/261 [==============================] - 0s 509us/step - loss: 0.1593\n",
      "Epoch 11/5000\n",
      "261/261 [==============================] - 0s 494us/step - loss: 0.1575\n",
      "Epoch 12/5000\n",
      "261/261 [==============================] - 0s 505us/step - loss: 0.1550\n",
      "Epoch 13/5000\n",
      "261/261 [==============================] - 0s 486us/step - loss: 0.1529\n",
      "Epoch 14/5000\n",
      "261/261 [==============================] - 0s 501us/step - loss: 0.1503\n",
      "Epoch 15/5000\n",
      "261/261 [==============================] - 0s 509us/step - loss: 0.1473\n",
      "Epoch 16/5000\n",
      "261/261 [==============================] - 0s 505us/step - loss: 0.1440\n",
      "Epoch 17/5000\n",
      "261/261 [==============================] - 0s 505us/step - loss: 0.1404\n",
      "Epoch 18/5000\n",
      "261/261 [==============================] - 0s 505us/step - loss: 0.1370\n",
      "Epoch 19/5000\n",
      "261/261 [==============================] - 0s 498us/step - loss: 0.1326\n",
      "Epoch 20/5000\n",
      "261/261 [==============================] - 0s 494us/step - loss: 0.1292\n",
      "Epoch 21/5000\n",
      "261/261 [==============================] - 0s 498us/step - loss: 0.1254\n",
      "Epoch 22/5000\n",
      "261/261 [==============================] - 0s 517us/step - loss: 0.1197\n",
      "Epoch 23/5000\n",
      "261/261 [==============================] - 0s 540us/step - loss: 0.1194\n",
      "Epoch 24/5000\n",
      "261/261 [==============================] - 0s 528us/step - loss: 0.1132\n",
      "Epoch 25/5000\n",
      "261/261 [==============================] - 0s 509us/step - loss: 0.1145\n",
      "Epoch 26/5000\n",
      "261/261 [==============================] - 0s 498us/step - loss: 0.1246\n",
      "Epoch 27/5000\n",
      "261/261 [==============================] - 0s 505us/step - loss: 0.1156\n",
      "Epoch 28/5000\n",
      "261/261 [==============================] - 0s 501us/step - loss: 0.1138\n",
      "Epoch 29/5000\n",
      "261/261 [==============================] - 0s 498us/step - loss: 0.1090\n",
      "Epoch 30/5000\n",
      "261/261 [==============================] - 0s 505us/step - loss: 0.1071\n",
      "Epoch 31/5000\n",
      "261/261 [==============================] - 0s 509us/step - loss: 0.1064\n",
      "Epoch 32/5000\n",
      " 32/261 [==>...........................] - ETA: 0s - loss: 0.0954"
     ]
    }
   ],
   "source": [
    "# Treinamento\n",
    "start = time()\n",
    "\n",
    "lstm_model = train_lstm(train_scaled, 5000)\n",
    "\n",
    "print ('\\nTempo gasto: %s segundos' % str(time() - start))"
   ]
  },
  {
   "cell_type": "code",
   "execution_count": null,
   "metadata": {
    "colab": {
     "base_uri": "https://localhost:8080/",
     "height": 612
    },
    "colab_type": "code",
    "id": "2h2V3M5ZfuQo",
    "outputId": "940610c6-f8ea-410e-9ae4-a18e95cbd3c5"
   },
   "outputs": [],
   "source": [
    "# Forecast em todo o conjunto de dados de treinamento para construir o estado da previsão\n",
    "train_reshaped = train_scaled[:, 0].reshape(len(train_scaled), 1, 1)\n",
    "#lstm_model.predict(train_reshaped)"
   ]
  },
  {
   "cell_type": "code",
   "execution_count": null,
   "metadata": {
    "colab": {},
    "colab_type": "code",
    "id": "V2AVtXwjfuQp"
   },
   "outputs": [],
   "source": [
    "# Fazemos uma previsão em uma etapa\n",
    "def forecast_lstm(model, X):\n",
    "    X = X.reshape(1, 1, len(X))\n",
    "    yhat = model.predict(X)\n",
    "    return yhat[0,0]"
   ]
  },
  {
   "cell_type": "code",
   "execution_count": null,
   "metadata": {
    "colab": {
     "base_uri": "https://localhost:8080/",
     "height": 221
    },
    "colab_type": "code",
    "id": "3N09KJCofuQq",
    "outputId": "fcb563c0-8bbe-4397-8ae8-fea4b23e2b43"
   },
   "outputs": [],
   "source": [
    "# Validação direta nos dados de teste\n",
    "\n",
    "# Lista para as previsões\n",
    "previsoes_lstm = list()\n",
    "\n",
    "# Previsões\n",
    "for i in range(len(test_scaled)):\n",
    "    \n",
    "    # Ajusta o shape dos dados de teste\n",
    "    X, y = test_scaled[i, 0:-1], test_scaled[i, -1]\n",
    "    \n",
    "    # Previsão\n",
    "    yhat = forecast_lstm(lstm_model, X)\n",
    "    \n",
    "    # Inverte a escala\n",
    "    yhat = invert_scale(scaler, X, yhat)\n",
    "    \n",
    "    # Inverte a diferenciação\n",
    "    yhat = inverse_difference(raw_values, yhat, len(test_scaled) + 1 - i)\n",
    "    \n",
    "    # Armazena o forecast\n",
    "    previsoes_lstm.append(yhat)\n",
    "    expected = raw_values[len(train_scaled) + i ]\n",
    "    \n",
    "    print('Mês = %d, Valor Previsto = %f, Valor Esperado = %f' % (i + 1, yhat, expected))"
   ]
  },
  {
   "cell_type": "code",
   "execution_count": null,
   "metadata": {},
   "outputs": [],
   "source": [
    "# Calculamos e imprimos a performance do modelo\n",
    "dados_teste_original = target[-90:]\n",
    "dados_teste_original = dados_teste_original.values.reshape(90,1)\n",
    "modelo_lstm_performance = performance(dados_teste_original, previsoes_lstm)\n",
    "#modelo_lstm_performance"
   ]
  },
  {
   "cell_type": "markdown",
   "metadata": {
    "colab_type": "text",
    "id": "5LWI7RZXfuQt"
   },
   "source": [
    "Observe o que aconteceu. Uma das técnicas de aprendizagem de máquina do planeta agora é o pior modelo que criamos entre todas as versões até aqui. \n",
    "\n",
    "E o que deveria ter melhorado a precisão do modelo (mais camadas e mais neurônios) na verdade de mostrou um desastre. Por isso, como profissional, você deve dominar as técnicas do processo e não contar com a apenas uma estratégia. cada problema vai querer uma abordagem diferente.\n",
    "\n",
    "Vamos finalizar o trabalho como fizemos nas aulas anteriores."
   ]
  },
  {
   "cell_type": "code",
   "execution_count": null,
   "metadata": {},
   "outputs": [],
   "source": [
    "# Plot\n",
    "plt.figure(figsize = (18, 6))\n",
    "\n",
    "# Série original\n",
    "plt.plot(target.index, target.values, label = 'Valores Observados', color = 'Blue')\n",
    "plt.plot(teste, label = 'Dados de Teste', color = 'green')\n",
    "\n",
    "# Previsões\n",
    "plt.plot(target[262:].index, previsoes_lstm, label = 'Previsões', color = 'Red')\n",
    "\n",
    "plt.title('Previsões Com Modelo Stacked LSTM Profundo')\n",
    "plt.xlabel('Data')\n",
    "plt.ylabel('Distanciamento Social')\n",
    "plt.legend(loc = 'upper left')\n",
    "plt.show()"
   ]
  },
  {
   "cell_type": "code",
   "execution_count": null,
   "metadata": {},
   "outputs": [],
   "source": [
    "# Plot\n",
    "plt.figure(figsize = (20, 6))\n",
    "plt.plot(teste, label = 'Dados de Teste', color = 'green')\n",
    "plt.plot(target[262:].index, previsoes_lstm, label = 'Previsões', color = 'Red')\n",
    "plt.title('Previsões Com Modelo LSTM Otimizado')\n",
    "plt.legend(loc = 'upper left')\n",
    "plt.show()"
   ]
  },
  {
   "cell_type": "markdown",
   "metadata": {
    "colab_type": "text",
    "id": "BveB_IPWfuQv"
   },
   "source": [
    "Vamos fazer o Forecasting para 24 meses de horizonte de previsão. A função DateOffset() vai nos ajudar a criar as datas."
   ]
  },
  {
   "cell_type": "markdown",
   "metadata": {
    "colab_type": "text",
    "id": "ds-C3X94fuQv"
   },
   "source": [
    "Vejamos qual é a última data da nossa série original:"
   ]
  },
  {
   "cell_type": "code",
   "execution_count": null,
   "metadata": {
    "colab": {
     "base_uri": "https://localhost:8080/",
     "height": 34
    },
    "colab_type": "code",
    "id": "SqIiYztAfuQw",
    "outputId": "8f0b5993-8403-4cff-eafa-07b147b2b6a1"
   },
   "outputs": [],
   "source": [
    "# Última data da série\n",
    "target.index[-1]"
   ]
  },
  {
   "cell_type": "code",
   "execution_count": null,
   "metadata": {
    "colab": {},
    "colab_type": "code",
    "id": "l6vVz9WVfuQy"
   },
   "outputs": [],
   "source": [
    "# Cria sequência de datas a partir da última data da nossa série original\n",
    "datas_para_prever_forecasting = [target.index[-1] + DateOffset(days = x) for x in range(0, 89)]"
   ]
  },
  {
   "cell_type": "code",
   "execution_count": null,
   "metadata": {
    "colab": {
     "base_uri": "https://localhost:8080/",
     "height": 238
    },
    "colab_type": "code",
    "id": "bN0xvzxxfuQ0",
    "outputId": "68add715-189f-44d2-9928-8ec61c9e8d2d"
   },
   "outputs": [],
   "source": [
    "# Visualiza as datas criadas\n",
    "#datas_para_prever_forecasting"
   ]
  },
  {
   "cell_type": "code",
   "execution_count": null,
   "metadata": {
    "colab": {
     "base_uri": "https://localhost:8080/",
     "height": 34
    },
    "colab_type": "code",
    "id": "gDDvszgofuQ2",
    "outputId": "d9ba2cf8-36ef-43f7-c82b-9c77cdc63ade"
   },
   "outputs": [],
   "source": [
    "# Nossa série original é um objeto do tipo pd.Series\n",
    "#type(arrecadacao_icms)"
   ]
  },
  {
   "cell_type": "code",
   "execution_count": null,
   "metadata": {
    "colab": {},
    "colab_type": "code",
    "id": "IxQxnVAmfuQ3"
   },
   "outputs": [],
   "source": [
    "# Objetos do tipo pd.Series dão mais trabalho para manipular. Vamos converter a série original em dataframe.\n",
    "df_original = pd.DataFrame(target)"
   ]
  },
  {
   "cell_type": "code",
   "execution_count": null,
   "metadata": {
    "colab": {
     "base_uri": "https://localhost:8080/",
     "height": 235
    },
    "colab_type": "code",
    "id": "eDz2vOyafuQ4",
    "outputId": "4faa00e4-8165-428e-814f-896d3d2c9511"
   },
   "outputs": [],
   "source": [
    "# Visualiza os dados\n",
    "#df_original.head()"
   ]
  },
  {
   "cell_type": "code",
   "execution_count": null,
   "metadata": {
    "colab": {},
    "colab_type": "code",
    "id": "mikySxcMfuQ6"
   },
   "outputs": [],
   "source": [
    "# Vamos agora criar um novo dataframe \n",
    "# O índice (data) será a sequência de datas futuras\n",
    "# O nome da coluna de dados extraímos da série original\n",
    "# ATENÇÃO: Não estamos extraindo os dados da série original, somente o nome da coluna\n",
    "data_futuras = pd.DataFrame(index = datas_para_prever_forecasting[1:], columns = df_original.columns)"
   ]
  },
  {
   "cell_type": "code",
   "execution_count": null,
   "metadata": {
    "colab": {
     "base_uri": "https://localhost:8080/",
     "height": 421
    },
    "colab_type": "code",
    "id": "L2phidEVfuQ7",
    "outputId": "1dad06fa-cc00-444e-e264-57d031048416"
   },
   "outputs": [],
   "source": [
    "# Visualiza os dados\n",
    "# Entendeu por que os valores NaN? São datas futuras, e precisamos agora incluir nossas previsões.\n",
    "#data_futuras"
   ]
  },
  {
   "cell_type": "code",
   "execution_count": null,
   "metadata": {
    "colab": {},
    "colab_type": "code",
    "id": "l7YAQzFqfuQ9"
   },
   "outputs": [],
   "source": [
    "# Usamos as datas futuras para extrair as previsões do nosso modelo\n",
    "df_predict = pd.DataFrame(previsoes_lstm,\n",
    "                          index = data_futuras.index, columns = ['Prediction'])"
   ]
  },
  {
   "cell_type": "code",
   "execution_count": null,
   "metadata": {
    "colab": {},
    "colab_type": "code",
    "id": "HWddcbtDfuQ_"
   },
   "outputs": [],
   "source": [
    "# Concatenamos a série original com os valores de forecasting de 12 meses além da série\n",
    "df_forecasting = pd.concat([df_original, df_predict], axis = 1)"
   ]
  },
  {
   "cell_type": "code",
   "execution_count": null,
   "metadata": {
    "colab": {
     "base_uri": "https://localhost:8080/",
     "height": 1000
    },
    "colab_type": "code",
    "id": "8fYXrP_mfuQ_",
    "outputId": "30c00259-2cfa-47d0-82b0-c7c36c442db3"
   },
   "outputs": [],
   "source": [
    "# Visualiza o dataframe\n",
    "#df_forecasting"
   ]
  },
  {
   "cell_type": "markdown",
   "metadata": {
    "colab_type": "text",
    "id": "Dfzh7Rw_fuRA"
   },
   "source": [
    "### Previsão x Forecasting"
   ]
  },
  {
   "cell_type": "markdown",
   "metadata": {
    "colab_type": "text",
    "id": "VvCiawJlfuRB"
   },
   "source": [
    "Esse dataframe acima é para não restar qualquer dúvida do que estamos fazendo.\n",
    "\n",
    "Nas **previsões** do modelo, usamos os dados de teste, 24 meses que correspondem aos 24 últimos registros da série original (2017-01-01 a 2017-12-01. Fazemos isso para poder calcular a precisão do modelo, comparando as previsões com os valores reais. Esse é o padrão em Machine Learning.\n",
    "\n",
    "No **forecasting**, criamos 24 meses após a última data da série original. Obviamente, não temos dados históricos para esses meses e o que queremos é exatamente a previsão de vendas. O forecasting significa usar o modelo treinado e prever valores sobre novas datas.\n",
    "\n",
    "Bingo!"
   ]
  },
  {
   "cell_type": "markdown",
   "metadata": {
    "colab_type": "text",
    "id": "xqga6o-mfuRB"
   },
   "source": [
    "Vamos colocar o forecasting em um Plot."
   ]
  },
  {
   "cell_type": "code",
   "execution_count": null,
   "metadata": {},
   "outputs": [],
   "source": [
    "# Plot\n",
    "plt.figure(figsize = (18, 6))\n",
    "\n",
    "# Série original\n",
    "plt.plot(target.index, target.values, label = 'Valores Observados', color = 'Blue')\n",
    "plt.plot(teste, label = 'Dados de Teste', color = 'green')\n",
    "\n",
    "# Previsões\n",
    "plt.plot(df_forecasting.index, df_forecasting['Prediction'], label = 'Forecasting',  color = 'Red')\n",
    "\n",
    "plt.title('Forecasting Com Modelo Stacked LSTM Profundo Em Horizonte de 12 Meses de Previsão')\n",
    "plt.xlabel('Data')\n",
    "plt.ylabel('Distanciamento Social')\n",
    "plt.legend()\n",
    "plt.show()"
   ]
  },
  {
   "cell_type": "markdown",
   "metadata": {
    "colab_type": "text",
    "id": "SP8z13nufuRC"
   },
   "source": [
    "Graficamente o resultado não parece tão ruim, mas as métricas demonstram que esse modelo é o pior de todos, ainda possa até mesmo ser usado na falta de outra opção."
   ]
  },
  {
   "cell_type": "markdown",
   "metadata": {
    "colab_type": "text",
    "id": "egEXHD4mfuRC"
   },
   "source": [
    "E aí está nosso primeiro modelo de Deep Learning para previsão de séries temporais!"
   ]
  },
  {
   "cell_type": "markdown",
   "metadata": {
    "colab_type": "text",
    "id": "96PCGhghfuRD"
   },
   "source": [
    "Como estamos até agora:\n",
    "    \n",
    "- Modelo 15 --> Modelo ARMA (9, 6) - AIC = 1295.100 e RMSE = 3.5966\n",
    "- Modelo 16 --> Modelo ARIMA Forcast (4, 1, 5) Forecast - AIC = 1385.134 e RMSE = 3.7513\n",
    "- Modelo 17 --> Modelo SARIMA (2, 1, 1)x(2, 1, 0, 10) - AIC = 1449.398 e RMSE = 6.5842\n",
    "- Modelo 18 --> Modelo SARIMA (1, 1, 1)x(0, 1, 1, 10) - AIC = 1451.114 e RMSE = 5.0104\n",
    "- Modelo 22 --> Modelo LSTM Padrão - MAPE = 10.1241 e RMSE = 3.8363   -   (3 repetições)\n",
    "- Modelo 22 --> Modelo LSTM Padrão - MAPE = 10.6874 e RMSE = 5.9767   -   (5 repetições)\n",
    "- Modelo 23 --> Modelo Stacked LSTM - MAPE = 7.9989 e RMSE = 4.6203   -   (3 repetições)\n",
    "- Modelo 24 --> Modelo Stacked LSTM Profundo - MAPE = 12.7611 e RMSE = 7.0475 \n",
    "\n",
    "Mas.....ainda não fizemos otimização de hiperparâmetros do modelo! "
   ]
  },
  {
   "cell_type": "markdown",
   "metadata": {},
   "source": [
    "Todas as aulas deste curso podem ser encontradas na timeline da Comunidade no portal da DSA: www.datascienceacademy.com.br"
   ]
  },
  {
   "cell_type": "markdown",
   "metadata": {
    "colab_type": "text",
    "id": "V1ewHTygfuRD"
   },
   "source": [
    "# Fim"
   ]
  }
 ],
 "metadata": {
  "accelerator": "GPU",
  "colab": {
   "collapsed_sections": [],
   "name": "Aula24.ipynb",
   "provenance": []
  },
  "kernelspec": {
   "display_name": "Python 3",
   "language": "python",
   "name": "python3"
  },
  "language_info": {
   "codemirror_mode": {
    "name": "ipython",
    "version": 3
   },
   "file_extension": ".py",
   "mimetype": "text/x-python",
   "name": "python",
   "nbconvert_exporter": "python",
   "pygments_lexer": "ipython3",
   "version": "3.6.12"
  },
  "toc": {
   "base_numbering": 1,
   "nav_menu": {
    "height": "436px",
    "width": "256px"
   },
   "number_sections": true,
   "sideBar": false,
   "skip_h1_title": false,
   "title_cell": "Table of Contents",
   "title_sidebar": "Contents",
   "toc_cell": true,
   "toc_position": {},
   "toc_section_display": true,
   "toc_window_display": false
  }
 },
 "nbformat": 4,
 "nbformat_minor": 1
}
